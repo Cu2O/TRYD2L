{
 "cells": [
  {
   "cell_type": "markdown",
   "id": "c50df0e1",
   "metadata": {},
   "source": [
    "# 线性代数"
   ]
  },
  {
   "cell_type": "code",
   "execution_count": null,
   "id": "da7f2355",
   "metadata": {},
   "outputs": [
    {
     "data": {
      "text/plain": [
       "tensor([[ 0.,  1.,  2.,  3.],\n",
       "        [ 4.,  5.,  6.,  7.],\n",
       "        [ 8.,  9., 10., 11.],\n",
       "        [12., 13., 14., 15.],\n",
       "        [16., 17., 18., 19.]])\n"
      ]
     },
     "metadata": {},
     "output_type": "display_data"
    }
   ],
   "source": [
    "import torch\n",
    "A = torch.arange(20,dtype = torch.float32).reshape(5,4)\n",
    "print(A)"
   ]
  },
  {
   "cell_type": "code",
   "execution_count": null,
   "id": "30684417",
   "metadata": {},
   "outputs": [
    {
     "data": {
      "text/plain": [
       "2648215109520 2648215109520\n",
       "tensor([[ 0.,  1.,  2.,  3.],\n",
       "        [ 4.,  5.,  6.,  7.],\n",
       "        [ 0.,  0.,  0.,  0.],\n",
       "        [12., 13., 14., 15.],\n",
       "        [16., 17., 18., 19.]])\n",
       "2649609308896 2648215109520\n",
       "tensor([[ 0.,  1.,  2.,  3.],\n",
       "        [ 4.,  5.,  6.,  7.],\n",
       "        [ 0.,  0.,  0.,  0.],\n",
       "        [12., 13., 14., 15.],\n",
       "        [16., 17., 18., 19.]])\n"
      ]
     },
     "metadata": {},
     "output_type": "display_data"
    }
   ],
   "source": [
    "# 单纯使用等于\n",
    "B = A\n",
    "print(id(B), id(A))\n",
    "B[2,:] = 0\n",
    "print(A)\n",
    "\n",
    "# 使用clone\n",
    "B = A.clone()\n",
    "print(id(B), id(A))\n",
    "B[2,:] = 0\n",
    "print(A)"
   ]
  },
  {
   "cell_type": "code",
   "execution_count": null,
   "id": "085cb3db",
   "metadata": {},
   "outputs": [
    {
     "data": {
      "text/plain": [
       "tensor([[[ 0,  1,  2,  3],\n",
       "         [ 4,  5,  6,  7],\n",
       "         [ 8,  9, 10, 11],\n",
       "         [12, 13, 14, 15],\n",
       "         [16, 17, 18, 19]],\n",
       "\n",
       "        [[20, 21, 22, 23],\n",
       "         [24, 25, 26, 27],\n",
       "         [28, 29, 30, 31],\n",
       "         [32, 33, 34, 35],\n",
       "         [36, 37, 38, 39]]])\n",
       "tensor(780)\n",
       "tensor([[20, 22, 24, 26],\n",
       "        [28, 30, 32, 34],\n",
       "        [36, 38, 40, 42],\n",
       "        [44, 46, 48, 50],\n",
       "        [52, 54, 56, 58]]) torch.Size([5, 4])\n",
       "tensor([[ 40,  45,  50,  55],\n",
       "        [140, 145, 150, 155]]) torch.Size([2, 4])\n",
       "tensor([180, 190, 200, 210]) torch.Size([4])\n",
       "tensor([[[ 40,  45,  50,  55]],\n",
       "\n",
       "        [[140, 145, 150, 155]]]) torch.Size([2, 1, 4])\n"
      ]
     },
     "metadata": {},
     "output_type": "display_data"
    }
   ],
   "source": [
    "C = torch.arange(40).reshape((2,5,4))\n",
    "print(C)\n",
    "print(C.sum())\n",
    "print(C.sum(axis=0), C.sum(axis=0).shape)\n",
    "print(C.sum(axis=1), C.sum(axis=1).shape)\n",
    "print(C.sum(axis=(0,1)), C.sum(axis=(0,1)).shape)\n",
    "\n",
    "print(C.sum(axis=1,keepdims = True), C.sum(axis=1,keepdims = True).shape)"
   ]
  }
 ],
 "metadata": {
  "language_info": {
   "name": "python"
  }
 },
 "nbformat": 4,
 "nbformat_minor": 5
}
