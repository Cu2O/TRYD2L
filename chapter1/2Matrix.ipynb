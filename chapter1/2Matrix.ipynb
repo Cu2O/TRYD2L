{
 "cells": [
  {
   "cell_type": "markdown",
   "id": "2ab27f3d",
   "metadata": {},
   "source": [
    "# 自动求导"
   ]
  },
  {
   "cell_type": "code",
   "execution_count": 1,
   "id": "590e04f0",
   "metadata": {},
   "outputs": [],
   "source": [
    "import torch"
   ]
  },
  {
   "cell_type": "code",
   "execution_count": 2,
   "id": "28750bbb",
   "metadata": {},
   "outputs": [
    {
     "name": "stdout",
     "output_type": "stream",
     "text": [
      "tensor([ 0.,  4.,  8., 12.])\n",
      "tensor([True, True, True, True])\n"
     ]
    }
   ],
   "source": [
    "x = torch.arange(4.0)\n",
    "x.requires_grad_(True)\n",
    "y = 2 * torch.dot(x, x)\n",
    "y.backward()\n",
    "print(x.grad)  # dy/dx = 4 * x\n",
    "print(x.grad == 4 * x)  # True"
   ]
  },
  {
   "cell_type": "code",
   "execution_count": null,
   "id": "acffe9ad",
   "metadata": {},
   "outputs": [
    {
     "name": "stdout",
     "output_type": "stream",
     "text": [
      "tensor([1., 1., 1., 1.])\n"
     ]
    }
   ],
   "source": [
    "x.grad.zero_()  # Reset gradients ，torch会累计梯度\n",
    "y = x.sum()\n",
    "y.backward()\n",
    "print(x.grad)  # dy/dx = 1 for all elements"
   ]
  },
  {
   "cell_type": "markdown",
   "id": "ae1165da",
   "metadata": {},
   "source": [
    "## y.sum().backward()\n",
    "loss一般是一个标量，而不是向量或者矩阵。所以“深度学习中，我们的目的不是计算微分矩阵，而是批量中每个样本单独计算的偏导数之和”，至于为什么需要批量计算每个样本的偏导数之和，我的理解是有时样本太多，一次计算需要占用很多内存，所以需将大样本分割为多个小样本进行累积计算。\n",
    "\n",
    "y.sum()求得一个标量，相当于在反向积累的过程中在向量y后面增加了一步y.sum()。完整的过程是，先求y.sum()对y的导数，再求y对x的导数"
   ]
  },
  {
   "cell_type": "code",
   "execution_count": null,
   "id": "b329fcdd",
   "metadata": {},
   "outputs": [
    {
     "name": "stdout",
     "output_type": "stream",
     "text": [
      "tensor([True, True, True, True])\n"
     ]
    }
   ],
   "source": [
    "x.grad.zero_()  # Reset gradients\n",
    "y = x * x\n",
    "u = y.detach() # 常数\n",
    "z = u * x\n",
    "\n",
    "z.sum().backward()\n",
    "print(x.grad == u)  # True"
   ]
  },
  {
   "cell_type": "code",
   "execution_count": null,
   "id": "8611c08c",
   "metadata": {},
   "outputs": [],
   "source": []
  }
 ],
 "metadata": {
  "kernelspec": {
   "display_name": "Dfu",
   "language": "python",
   "name": "python3"
  },
  "language_info": {
   "codemirror_mode": {
    "name": "ipython",
    "version": 3
   },
   "file_extension": ".py",
   "mimetype": "text/x-python",
   "name": "python",
   "nbconvert_exporter": "python",
   "pygments_lexer": "ipython3",
   "version": "3.10.16"
  }
 },
 "nbformat": 4,
 "nbformat_minor": 5
}
